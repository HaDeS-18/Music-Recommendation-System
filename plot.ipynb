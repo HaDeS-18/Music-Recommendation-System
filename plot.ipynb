{
 "cells": [
  {
   "cell_type": "code",
   "execution_count": 4,
   "id": "379e6133",
   "metadata": {},
   "outputs": [
    {
     "name": "stderr",
     "output_type": "stream",
     "text": [
      "C:\\Users\\harsh\\AppData\\Roaming\\Python\\Python312\\site-packages\\sklearn\\cluster\\_kmeans.py:1416: FutureWarning:\n",
      "\n",
      "The default value of `n_init` will change from 10 to 'auto' in 1.4. Set the value of `n_init` explicitly to suppress the warning\n",
      "\n"
     ]
    },
    {
     "name": "stdout",
     "output_type": "stream",
     "text": [
      "✅ Plot saved! Open 'pca_cluster_plot.html' in your browser.\n"
     ]
    }
   ],
   "source": [
    "# Import required libraries\n",
    "import pandas as pd\n",
    "from sklearn.cluster import KMeans\n",
    "from sklearn.preprocessing import StandardScaler\n",
    "from sklearn.pipeline import Pipeline\n",
    "from sklearn.decomposition import PCA\n",
    "import plotly.express as px\n",
    "\n",
    "# Load scaled dataset\n",
    "df = pd.read_csv(\"scaled_dataset.csv\")  # Ensure this CSV is in the same folder\n",
    "\n",
    "# Define feature columns (should match what was scaled)\n",
    "features = ['danceability', 'energy', 'key', 'loudness', 'mode',\n",
    "            'speechiness', 'acousticness', 'instrumentalness',\n",
    "            'liveness', 'valence', 'tempo']\n",
    "\n",
    "X = df[features]\n",
    "\n",
    "# Apply KMeans Clustering\n",
    "kmeans = KMeans(n_clusters=5, random_state=42)\n",
    "df['cluster_label'] = kmeans.fit_predict(X)\n",
    "\n",
    "# Create PCA Pipeline to reduce to 2D\n",
    "pca_pipeline = Pipeline([\n",
    "    ('scaler', StandardScaler()),\n",
    "    ('pca', PCA(n_components=2))\n",
    "])\n",
    "song_embedding = pca_pipeline.fit_transform(X)\n",
    "\n",
    "# Create projection DataFrame for plotting\n",
    "projection = pd.DataFrame(song_embedding, columns=['x', 'y'])\n",
    "projection['title'] = df['name']\n",
    "projection['artist'] = df['artists']\n",
    "projection['year'] = df['year']\n",
    "projection['cluster'] = df['cluster_label'].astype(str)\n",
    "\n",
    "# Create interactive scatter plot\n",
    "fig = px.scatter(\n",
    "    projection,\n",
    "    x='x',\n",
    "    y='y',\n",
    "    color='cluster',\n",
    "    hover_data=['title', 'artist', 'year'],\n",
    "    title='🎧 PCA Projection of Songs Clustered by Audio Features',\n",
    "    color_discrete_sequence=px.colors.qualitative.Set2\n",
    ")\n",
    "\n",
    "fig.update_traces(marker=dict(size=8, opacity=0.7))\n",
    "fig.update_layout(legend_title_text='Cluster')\n",
    "\n",
    "# Show plot\n",
    "fig.write_html(\"pca_cluster_plot.html\")\n",
    "print(\"✅ Plot saved! Open 'pca_cluster_plot.html' in your browser.\")\n"
   ]
  },
  {
   "cell_type": "code",
   "execution_count": 8,
   "id": "ee1e0e08",
   "metadata": {},
   "outputs": [
    {
     "name": "stderr",
     "output_type": "stream",
     "text": [
      "C:\\Users\\harsh\\AppData\\Roaming\\Python\\Python312\\site-packages\\sklearn\\cluster\\_kmeans.py:1416: FutureWarning:\n",
      "\n",
      "The default value of `n_init` will change from 10 to 'auto' in 1.4. Set the value of `n_init` explicitly to suppress the warning\n",
      "\n"
     ]
    },
    {
     "name": "stdout",
     "output_type": "stream",
     "text": [
      "[t-SNE] Computing 31 nearest neighbors...\n",
      "[t-SNE] Indexed 2973 samples in 0.004s...\n",
      "[t-SNE] Computed neighbors for 2973 samples in 0.170s...\n",
      "[t-SNE] Computed conditional probabilities for sample 1000 / 2973\n",
      "[t-SNE] Computed conditional probabilities for sample 2000 / 2973\n",
      "[t-SNE] Computed conditional probabilities for sample 2973 / 2973\n",
      "[t-SNE] Mean sigma: 0.599325\n",
      "[t-SNE] KL divergence after 250 iterations with early exaggeration: 84.300743\n",
      "[t-SNE] KL divergence after 1000 iterations: 1.456463\n",
      "⚠️ Could not display plot inline. Saving as HTML instead...\n",
      "✅ Plot saved as 'tsne_genres_plot.html'. Open in a browser.\n"
     ]
    }
   ],
   "source": [
    "import numpy as np\n",
    "import pandas as pd\n",
    "import plotly.express as px\n",
    "from sklearn.manifold import TSNE\n",
    "from sklearn.pipeline import make_pipeline\n",
    "from sklearn.preprocessing import StandardScaler\n",
    "from sklearn.cluster import KMeans\n",
    "\n",
    "# Load dataset\n",
    "df = pd.read_csv(\"data_by_genres.csv\")\n",
    "\n",
    "# Optional: Cluster genres using KMeans (e.g., into 5 clusters)\n",
    "X = df.select_dtypes(include=[np.number])\n",
    "kmeans = KMeans(n_clusters=5, random_state=42)\n",
    "df['cluster'] = kmeans.fit_predict(X)\n",
    "\n",
    "# t-SNE dimensionality reduction pipeline\n",
    "tsne_pipeline = make_pipeline(StandardScaler(), TSNE(n_components=2, random_state=42, perplexity=10, n_iter=1000, verbose=1))\n",
    "tsne_result = tsne_pipeline.fit_transform(X)\n",
    "\n",
    "# Prepare DataFrame for visualization\n",
    "projection = pd.DataFrame(tsne_result, columns=['x', 'y'])\n",
    "projection['genres'] = df['genres']\n",
    "projection['cluster'] = df['cluster'].astype(str)  # Convert to str for proper color labeling\n",
    "\n",
    "# Plot with Plotly\n",
    "fig = px.scatter(\n",
    "    projection, x='x', y='y',\n",
    "    color='cluster',\n",
    "    hover_data=['genres'],\n",
    "    title='t-SNE Visualization of Genres by Audio Features'\n",
    ")\n",
    "\n",
    "# Try showing the plot, or fallback to HTML export\n",
    "try:\n",
    "    fig.show()\n",
    "except Exception as e:\n",
    "    print(\"⚠️ Could not display plot inline. Saving as HTML instead...\")\n",
    "    fig.write_html(\"tsne_genres_plot.html\")\n",
    "    print(\"✅ Plot saved as 'tsne_genres_plot.html'. Open in a browser.\")\n"
   ]
  },
  {
   "cell_type": "code",
   "execution_count": null,
   "id": "03f04b4d",
   "metadata": {},
   "outputs": [],
   "source": []
  }
 ],
 "metadata": {
  "kernelspec": {
   "display_name": "Python 3",
   "language": "python",
   "name": "python3"
  },
  "language_info": {
   "codemirror_mode": {
    "name": "ipython",
    "version": 3
   },
   "file_extension": ".py",
   "mimetype": "text/x-python",
   "name": "python",
   "nbconvert_exporter": "python",
   "pygments_lexer": "ipython3",
   "version": "3.12.9"
  }
 },
 "nbformat": 4,
 "nbformat_minor": 5
}
